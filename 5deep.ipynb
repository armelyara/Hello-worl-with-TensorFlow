{
  "nbformat": 4,
  "nbformat_minor": 0,
  "metadata": {
    "colab": {
      "name": "5deep.ipynb",
      "provenance": [],
      "collapsed_sections": [],
      "include_colab_link": true
    },
    "kernelspec": {
      "display_name": "Python 3",
      "name": "python3"
    }
  },
  "cells": [
    {
      "cell_type": "markdown",
      "metadata": {
        "id": "view-in-github",
        "colab_type": "text"
      },
      "source": [
        "<a href=\"https://colab.research.google.com/github/armelyara/Hello-world-with-TensorFlow/blob/master/5deep.ipynb\" target=\"_parent\"><img src=\"https://colab.research.google.com/assets/colab-badge.svg\" alt=\"Open In Colab\"/></a>"
      ]
    },
    {
      "cell_type": "code",
      "metadata": {
        "id": "5CbnwakkuxT5"
      },
      "source": [
        "#import packages\r\n",
        "import os\r\n",
        "import zipfile"
      ],
      "execution_count": 4,
      "outputs": []
    },
    {
      "cell_type": "code",
      "metadata": {
        "id": "32HSMgRt18TI"
      },
      "source": [
        "#Path for download data\r\n",
        "local_zip = '/tmp/5DeepProject.zip'\r\n",
        "\r\n",
        "zip_ref = zipfile.ZipFile(local_zip, 'r')\r\n",
        "\r\n",
        "zip_ref.extractall('/tmp')\r\n",
        "zip_ref.close()"
      ],
      "execution_count": 5,
      "outputs": []
    },
    {
      "cell_type": "code",
      "metadata": {
        "id": "EOytz11NJXIh"
      },
      "source": [
        "base_dir = '/tmp'\r\n",
        "\r\n",
        "train_dir = os.path.join(base_dir, 'train/seg_train')\r\n",
        "test_dir = os.path.join(base_dir, 'test/seg_test')\r\n",
        "\r\n",
        "# Directory with our training buildings/forest/glacier/mountain/sea/street pictures\r\n",
        "train_buildings_dir = os.path.join(train_dir, 'buildings')\r\n",
        "train_forest_dir = os.path.join(train_dir, 'forest')\r\n",
        "train_glacier_dir = os.path.join(train_dir, 'glacier')\r\n",
        "train_mountain_dir = os.path.join(train_dir, 'mountain')\r\n",
        "train_sea_dir = os.path.join(train_dir, 'sea')\r\n",
        "train_street_dir = os.path.join(train_dir, 'street')\r\n",
        "\r\n",
        "# Directory with our validation buildings/forest/glacier/mountain/sea/street pictures\r\n",
        "test_buildings_dir = os.path.join(test_dir, 'buildings')\r\n",
        "test_forest_dir = os.path.join(test_dir, 'forest')\r\n",
        "test_glacier_dir = os.path.join(test_dir, 'glacier')\r\n",
        "test_mountain_dir = os.path.join(test_dir, 'mountain')\r\n",
        "test_sea_dir = os.path.join(test_dir, 'sea')\r\n",
        "test_street_dir = os.path.join(test_dir, 'street')"
      ],
      "execution_count": 6,
      "outputs": []
    },
    {
      "cell_type": "code",
      "metadata": {
        "colab": {
          "base_uri": "https://localhost:8080/"
        },
        "id": "InqGLo6XOn4v",
        "outputId": "64f7a143-445d-42a0-a4fa-526c7bbb75a6"
      },
      "source": [
        "train_buildings_fnames = os.listdir( train_buildings_dir )\r\n",
        "train_forest_fnames = os.listdir( train_forest_dir )\r\n",
        "train_glacier_fnames = os.listdir( train_glacier_dir )\r\n",
        "train_mountain_fnames = os.listdir( train_mountain_dir )\r\n",
        "train_sea_fnames = os.listdir( train_sea_dir )\r\n",
        "train_street_fnames = os.listdir( train_street_dir )\r\n",
        "\r\n",
        "print(train_buildings_fnames[:10])\r\n",
        "print(train_forest_fnames[:10])\r\n",
        "print(train_glacier_fnames[:10])\r\n",
        "print(train_mountain_fnames[:10])\r\n",
        "print(train_sea_fnames[:10])\r\n",
        "print(train_street_fnames[:10])"
      ],
      "execution_count": 7,
      "outputs": [
        {
          "output_type": "stream",
          "text": [
            "['13352.jpg', '6232.jpg', '19584.jpg', '16912.jpg', '3067.jpg', '4571.jpg', '7891.jpg', '6747.jpg', '2796.jpg', '12802.jpg']\n",
            "['3377.jpg', '13551.jpg', '13159.jpg', '845.jpg', '11687.jpg', '3368.jpg', '9246.jpg', '6527.jpg', '13312.jpg', '13386.jpg']\n",
            "['10993.jpg', '10025.jpg', '12101.jpg', '10104.jpg', '5442.jpg', '7550.jpg', '998.jpg', '187.jpg', '12503.jpg', '10508.jpg']\n",
            "['2382.jpg', '10815.jpg', '12472.jpg', '12886.jpg', '4886.jpg', '12616.jpg', '11111.jpg', '7359.jpg', '5939.jpg', '11358.jpg']\n",
            "['1980.jpg', '1447.jpg', '12013.jpg', '8709.jpg', '15210.jpg', '13298.jpg', '15711.jpg', '6853.jpg', '4914.jpg', '65.jpg']\n",
            "['3360.jpg', '1385.jpg', '7834.jpg', '2343.jpg', '13605.jpg', '19736.jpg', '3619.jpg', '8958.jpg', '17394.jpg', '7300.jpg']\n"
          ],
          "name": "stdout"
        }
      ]
    },
    {
      "cell_type": "code",
      "metadata": {
        "colab": {
          "base_uri": "https://localhost:8080/"
        },
        "id": "zGzUGlWQTu5n",
        "outputId": "68dc0c1d-3657-41ae-ca4f-1b539934e48e"
      },
      "source": [
        "#Let's find out the total number of buildings,forest,glacier,mountain,sea and street images in the `train` and `validation` directories:\r\n",
        "\r\n",
        "print('total training buildings images :', len(os.listdir(      train_buildings_dir ) ))\r\n",
        "print('total training forest images :', len(os.listdir(      train_forest_dir ) ))\r\n",
        "print('total training glacier images :', len(os.listdir(      train_glacier_dir ) ))\r\n",
        "print('total training mountain images :', len(os.listdir(      train_mountain_dir ) ))\r\n",
        "print('total training sea images :', len(os.listdir(      train_sea_dir ) ))\r\n",
        "print('total training street images :', len(os.listdir(      train_street_dir ) ))\r\n",
        "\r\n",
        "print('total test buildings images :', len(os.listdir( test_buildings_dir )))\r\n",
        "print('total test forest images :', len(os.listdir( test_forest_dir ) ))\r\n",
        "print('total test glacier images :', len(os.listdir( test_glacier_dir ) ))\r\n",
        "print('total test mountain images :', len(os.listdir( test_mountain_dir ) ))\r\n",
        "print('total test sea images :', len(os.listdir( test_sea_dir ) ))\r\n",
        "print('total test street images :', len(os.listdir( test_street_dir ) ))"
      ],
      "execution_count": 8,
      "outputs": [
        {
          "output_type": "stream",
          "text": [
            "total training buildings images : 2191\n",
            "total training forest images : 2271\n",
            "total training glacier images : 2404\n",
            "total training mountain images : 2512\n",
            "total training sea images : 2274\n",
            "total training street images : 2382\n",
            "total test buildings images : 437\n",
            "total test forest images : 474\n",
            "total test glacier images : 553\n",
            "total test mountain images : 525\n",
            "total test sea images : 510\n",
            "total test street images : 501\n"
          ],
          "name": "stdout"
        }
      ]
    },
    {
      "cell_type": "code",
      "metadata": {
        "id": "8pXbbsprV8UB"
      },
      "source": [
        "import tensorflow as tf\r\n",
        "\r\n",
        "\"\"\"Next we will define a Sequential layer as before, adding some convolutional layers first. Note the input shape parameter this time. In the earlier example it was 28x28x1, because the image was 28x28 in greyscale (8 bits, 1 byte for color depth). This time it is 300x300 for the size and 3 (24 bits, 3 bytes) for the color depth.\r\n",
        "\r\n",
        "We then add a couple of convolutional layers as in the previous example, and flatten the final result to feed into the densely connected layers.\r\n",
        "\r\n",
        "Finally we add the densely connected layers. \r\n",
        "\r\n",
        "Note that because we are facing a six-class classification problem, i.e. a *categorical classification problem*, we will end our network with a [*softmax* activation](https://en.wikipedia.org/wiki/Softmax_function), so that the output of our network will be a single scalar between 0 and 1, encoding the probability that the current image is class 1 (as opposed to class 0).\r\n",
        "\"\"\"\r\n",
        "\r\n",
        "model = tf.keras.models.Sequential([\r\n",
        "    # Note the input shape is the desired size of the image 150x150 with 3 bytes color\r\n",
        "    tf.keras.layers.Conv2D(16, (3,3), activation='relu', input_shape=(300, 300, 3)),\r\n",
        "    tf.keras.layers.MaxPooling2D(2,2), \r\n",
        "    tf.keras.layers.Conv2D(32, (3,3), activation='relu'), \r\n",
        "    tf.keras.layers.MaxPooling2D(2,2),\r\n",
        "    tf.keras.layers.Conv2D(64, (3,3), activation='relu'), \r\n",
        "    tf.keras.layers.MaxPooling2D(2,2),\r\n",
        "    tf.keras.layers.Conv2D(128, (3,3), activation='relu'), \r\n",
        "    tf.keras.layers.MaxPooling2D(2,2),\r\n",
        "    # Flatten the results to feed into a DNN\r\n",
        "    tf.keras.layers.Flatten(), \r\n",
        "    # 512 neuron hidden layer\r\n",
        "    tf.keras.layers.Dense(512, activation='relu'), \r\n",
        "    # Only 1 output neuron. It will contain a value from 0-1 where 0 for 1 class ('cats') and 1 for the other ('dogs')\r\n",
        "    tf.keras.layers.Dense(6, activation='softmax')  \r\n",
        "])"
      ],
      "execution_count": 9,
      "outputs": []
    },
    {
      "cell_type": "code",
      "metadata": {
        "colab": {
          "base_uri": "https://localhost:8080/"
        },
        "id": "TgoUwVKPX3qL",
        "outputId": "62675757-139e-4000-8771-a605e6abc8bc"
      },
      "source": [
        "\"\"\"The model.summary() method call prints a summary of the NN \"\"\"\r\n",
        "\r\n",
        "model.summary()"
      ],
      "execution_count": 10,
      "outputs": [
        {
          "output_type": "stream",
          "text": [
            "Model: \"sequential\"\n",
            "_________________________________________________________________\n",
            "Layer (type)                 Output Shape              Param #   \n",
            "=================================================================\n",
            "conv2d (Conv2D)              (None, 298, 298, 16)      448       \n",
            "_________________________________________________________________\n",
            "max_pooling2d (MaxPooling2D) (None, 149, 149, 16)      0         \n",
            "_________________________________________________________________\n",
            "conv2d_1 (Conv2D)            (None, 147, 147, 32)      4640      \n",
            "_________________________________________________________________\n",
            "max_pooling2d_1 (MaxPooling2 (None, 73, 73, 32)        0         \n",
            "_________________________________________________________________\n",
            "conv2d_2 (Conv2D)            (None, 71, 71, 64)        18496     \n",
            "_________________________________________________________________\n",
            "max_pooling2d_2 (MaxPooling2 (None, 35, 35, 64)        0         \n",
            "_________________________________________________________________\n",
            "conv2d_3 (Conv2D)            (None, 33, 33, 128)       73856     \n",
            "_________________________________________________________________\n",
            "max_pooling2d_3 (MaxPooling2 (None, 16, 16, 128)       0         \n",
            "_________________________________________________________________\n",
            "flatten (Flatten)            (None, 32768)             0         \n",
            "_________________________________________________________________\n",
            "dense (Dense)                (None, 512)               16777728  \n",
            "_________________________________________________________________\n",
            "dense_1 (Dense)              (None, 6)                 3078      \n",
            "=================================================================\n",
            "Total params: 16,878,246\n",
            "Trainable params: 16,878,246\n",
            "Non-trainable params: 0\n",
            "_________________________________________________________________\n"
          ],
          "name": "stdout"
        }
      ]
    },
    {
      "cell_type": "code",
      "metadata": {
        "id": "AHrMElMCX5wn"
      },
      "source": [
        "\"\"\"The \"output shape\" column shows how the size of your feature map evolves in each successive layer. The convolution layers reduce the size of the feature maps by a bit due to padding, and each pooling layer halves the dimensions.\r\n",
        "\r\n",
        "Next, we'll configure the specifications for model training. We will train our model with the `binary_crossentropy` loss, because it's a binary classification problem and our final activation is a sigmoid. (For a refresher on loss metrics, see the [Machine Learning Crash Course](https://developers.google.com/machine-learning/crash-course/descending-into-ml/video-lecture).) We will use the `rmsprop` optimizer with a learning rate of `0.001`. During training, we will want to monitor classification accuracy.\r\n",
        "\r\n",
        "**NOTE**: In this case, using the [RMSprop optimization algorithm](https://wikipedia.org/wiki/Stochastic_gradient_descent#RMSProp) is preferable to [stochastic gradient descent](https://developers.google.com/machine-learning/glossary/#SGD) (SGD), because RMSprop automates learning-rate tuning for us. (Other optimizers, such as [Adam](https://wikipedia.org/wiki/Stochastic_gradient_descent#Adam) and [Adagrad](https://developers.google.com/machine-learning/glossary/#AdaGrad), also automatically adapt the learning rate during training, and would work equally well here.)\r\n",
        "\"\"\"\r\n",
        "\r\n",
        "from tensorflow.keras.optimizers import RMSprop\r\n",
        "\r\n",
        "model.compile(optimizer=RMSprop(lr=0.001),\r\n",
        "              loss='categorical_crossentropy',\r\n",
        "              metrics = ['accuracy'])"
      ],
      "execution_count": 11,
      "outputs": []
    },
    {
      "cell_type": "code",
      "metadata": {
        "colab": {
          "base_uri": "https://localhost:8080/"
        },
        "id": "uEmdfHkwYCRK",
        "outputId": "e3ad81b8-e533-4866-f1fd-52edfb665c32"
      },
      "source": [
        "\"\"\"### Data Preprocessing\r\n",
        "\r\n",
        "Let's set up data generators that will read pictures in our source folders, convert them to `float32` tensors, and feed them (with their labels) to our network. We'll have one generator for the training images and one for the validation images. Our generators will yield batches of 20 images of size 150x150 and their labels (binary).\r\n",
        "\r\n",
        "As you may already know, data that goes into neural networks should usually be normalized in some way to make it more amenable to processing by the network. (It is uncommon to feed raw pixels into a convnet.) In our case, we will preprocess our images by normalizing the pixel values to be in the `[0, 1]` range (originally all values are in the `[0, 255]` range).\r\n",
        "\r\n",
        "In Keras this can be done via the `keras.preprocessing.image.ImageDataGenerator` class using the `rescale` parameter. This `ImageDataGenerator` class allows you to instantiate generators of augmented image batches (and their labels) via `.flow(data, labels)` or `.flow_from_directory(directory)`. These generators can then be used with the Keras model methods that accept data generators as inputs: `fit`, `evaluate_generator`, and `predict_generator`.\r\n",
        "\"\"\"\r\n",
        "\r\n",
        "from tensorflow.keras.preprocessing.image import ImageDataGenerator\r\n",
        "\r\n",
        "# All images will be rescaled by 1./255.\r\n",
        "train_datagen = ImageDataGenerator( rescale = 1.0/255. )\r\n",
        "test_datagen  = ImageDataGenerator( rescale = 1.0/255. )\r\n",
        "\r\n",
        "# --------------------\r\n",
        "# Flow training images in batches of 20 using train_datagen generator\r\n",
        "# --------------------\r\n",
        "train_generator = train_datagen.flow_from_directory(train_dir,\r\n",
        "                                                    batch_size=5,\r\n",
        "                                                    class_mode='categorical',\r\n",
        "                                                    target_size=(300, 300))     \r\n",
        "# --------------------\r\n",
        "# Flow validation images in batches of 20 using test_datagen generator\r\n",
        "# --------------------\r\n",
        "test_generator =  test_datagen.flow_from_directory(test_dir,\r\n",
        "                                                         batch_size=5,\r\n",
        "                                                         class_mode  = 'categorical',\r\n",
        "                                                         target_size = (300, 300))"
      ],
      "execution_count": 12,
      "outputs": [
        {
          "output_type": "stream",
          "text": [
            "Found 14034 images belonging to 6 classes.\n",
            "Found 3000 images belonging to 6 classes.\n"
          ],
          "name": "stdout"
        }
      ]
    },
    {
      "cell_type": "code",
      "metadata": {
        "colab": {
          "base_uri": "https://localhost:8080/"
        },
        "id": "CVTyH2ruYfpY",
        "outputId": "e6ed1f20-5df6-440a-98d8-b16d106e3758"
      },
      "source": [
        "\"\"\"### Training\r\n",
        "Let's train on all 2,000 images available, for 15 epochs, and validate on all 1,000 test images. (This may take a few minutes to run.)\r\n",
        "\r\n",
        "Do note the values per epoch.\r\n",
        "\r\n",
        "You'll see 4 values per epoch -- Loss, Accuracy, Validation Loss and Validation Accuracy. \r\n",
        "\r\n",
        "The Loss and Accuracy are a great indication of progress of training. It's making a guess as to the classification of the training data, and then measuring it against the known label, calculating the result. Accuracy is the portion of correct guesses. The Validation accuracy is the measurement with the data that has not been used in training. As expected this would be a bit lower. You'll learn about why this occurs in the section on overfitting later in this course.\r\n",
        "\r\n",
        "\"\"\"\r\n",
        "\r\n",
        "history = model.fit(train_generator,\r\n",
        "                              validation_data=test_generator,\r\n",
        "                              steps_per_epoch=10,\r\n",
        "                              epochs=100,\r\n",
        "                              validation_steps=10,\r\n",
        "                              verbose=2)"
      ],
      "execution_count": null,
      "outputs": [
        {
          "output_type": "stream",
          "text": [
            "Epoch 1/100\n",
            "10/10 - 9s - loss: 0.8799 - accuracy: 0.6600 - val_loss: 0.8778 - val_accuracy: 0.7200\n",
            "Epoch 2/100\n",
            "10/10 - 8s - loss: 0.9899 - accuracy: 0.6400 - val_loss: 0.8306 - val_accuracy: 0.7200\n",
            "Epoch 3/100\n",
            "10/10 - 8s - loss: 0.6566 - accuracy: 0.7000 - val_loss: 0.8472 - val_accuracy: 0.6400\n",
            "Epoch 4/100\n",
            "10/10 - 8s - loss: 0.8165 - accuracy: 0.6200 - val_loss: 1.0332 - val_accuracy: 0.7400\n",
            "Epoch 5/100\n",
            "10/10 - 8s - loss: 0.8325 - accuracy: 0.6800 - val_loss: 0.8088 - val_accuracy: 0.6800\n",
            "Epoch 6/100\n",
            "10/10 - 8s - loss: 0.7017 - accuracy: 0.6800 - val_loss: 1.8848 - val_accuracy: 0.6200\n",
            "Epoch 7/100\n",
            "10/10 - 8s - loss: 0.8652 - accuracy: 0.6000 - val_loss: 0.9611 - val_accuracy: 0.6600\n",
            "Epoch 8/100\n",
            "10/10 - 8s - loss: 0.5557 - accuracy: 0.8000 - val_loss: 0.8165 - val_accuracy: 0.7200\n",
            "Epoch 9/100\n",
            "10/10 - 8s - loss: 0.7079 - accuracy: 0.7600 - val_loss: 0.8125 - val_accuracy: 0.7600\n",
            "Epoch 10/100\n",
            "10/10 - 8s - loss: 0.5107 - accuracy: 0.8600 - val_loss: 1.1542 - val_accuracy: 0.6800\n",
            "Epoch 11/100\n",
            "10/10 - 8s - loss: 0.5299 - accuracy: 0.8200 - val_loss: 0.7697 - val_accuracy: 0.7800\n",
            "Epoch 12/100\n",
            "10/10 - 9s - loss: 1.3389 - accuracy: 0.6000 - val_loss: 0.8482 - val_accuracy: 0.6800\n",
            "Epoch 13/100\n",
            "10/10 - 9s - loss: 0.9063 - accuracy: 0.6600 - val_loss: 0.9020 - val_accuracy: 0.6400\n",
            "Epoch 14/100\n",
            "10/10 - 9s - loss: 0.6996 - accuracy: 0.7000 - val_loss: 1.5178 - val_accuracy: 0.5800\n",
            "Epoch 15/100\n",
            "10/10 - 8s - loss: 0.7838 - accuracy: 0.7400 - val_loss: 0.9605 - val_accuracy: 0.6600\n",
            "Epoch 16/100\n",
            "10/10 - 9s - loss: 0.7763 - accuracy: 0.7200 - val_loss: 1.1148 - val_accuracy: 0.6200\n",
            "Epoch 17/100\n",
            "10/10 - 8s - loss: 0.5491 - accuracy: 0.8600 - val_loss: 0.6342 - val_accuracy: 0.8000\n",
            "Epoch 18/100\n",
            "10/10 - 8s - loss: 1.2372 - accuracy: 0.5400 - val_loss: 0.9709 - val_accuracy: 0.6400\n",
            "Epoch 19/100\n",
            "10/10 - 8s - loss: 0.8506 - accuracy: 0.6600 - val_loss: 0.5430 - val_accuracy: 0.8000\n",
            "Epoch 20/100\n",
            "10/10 - 8s - loss: 0.7136 - accuracy: 0.7800 - val_loss: 0.4197 - val_accuracy: 0.8400\n",
            "Epoch 21/100\n",
            "10/10 - 8s - loss: 0.7555 - accuracy: 0.7000 - val_loss: 0.8006 - val_accuracy: 0.7000\n",
            "Epoch 22/100\n",
            "10/10 - 8s - loss: 0.7308 - accuracy: 0.7200 - val_loss: 0.6069 - val_accuracy: 0.7800\n",
            "Epoch 23/100\n",
            "10/10 - 9s - loss: 0.8485 - accuracy: 0.6400 - val_loss: 0.8509 - val_accuracy: 0.6800\n",
            "Epoch 24/100\n",
            "10/10 - 8s - loss: 0.8678 - accuracy: 0.6400 - val_loss: 0.8372 - val_accuracy: 0.6200\n",
            "Epoch 25/100\n",
            "10/10 - 8s - loss: 0.7296 - accuracy: 0.7000 - val_loss: 0.6710 - val_accuracy: 0.7200\n",
            "Epoch 26/100\n",
            "10/10 - 8s - loss: 0.8949 - accuracy: 0.6200 - val_loss: 0.8759 - val_accuracy: 0.6400\n",
            "Epoch 27/100\n",
            "10/10 - 8s - loss: 0.8814 - accuracy: 0.6400 - val_loss: 0.6052 - val_accuracy: 0.7800\n",
            "Epoch 28/100\n",
            "10/10 - 9s - loss: 0.6859 - accuracy: 0.7400 - val_loss: 1.1234 - val_accuracy: 0.5400\n",
            "Epoch 29/100\n",
            "10/10 - 8s - loss: 0.8916 - accuracy: 0.6800 - val_loss: 0.8573 - val_accuracy: 0.5800\n",
            "Epoch 30/100\n",
            "10/10 - 9s - loss: 0.7395 - accuracy: 0.8400 - val_loss: 0.4407 - val_accuracy: 0.8200\n",
            "Epoch 31/100\n",
            "10/10 - 8s - loss: 0.6395 - accuracy: 0.7000 - val_loss: 1.1843 - val_accuracy: 0.6400\n",
            "Epoch 32/100\n",
            "10/10 - 8s - loss: 0.4320 - accuracy: 0.8400 - val_loss: 1.4191 - val_accuracy: 0.3200\n",
            "Epoch 33/100\n",
            "10/10 - 8s - loss: 1.0883 - accuracy: 0.7400 - val_loss: 0.6961 - val_accuracy: 0.7000\n",
            "Epoch 34/100\n",
            "10/10 - 8s - loss: 0.9027 - accuracy: 0.6200 - val_loss: 0.9767 - val_accuracy: 0.6600\n",
            "Epoch 35/100\n",
            "10/10 - 8s - loss: 0.7476 - accuracy: 0.7600 - val_loss: 0.7236 - val_accuracy: 0.7000\n",
            "Epoch 36/100\n",
            "10/10 - 8s - loss: 0.8435 - accuracy: 0.7400 - val_loss: 0.8271 - val_accuracy: 0.7000\n",
            "Epoch 37/100\n",
            "10/10 - 8s - loss: 0.5840 - accuracy: 0.7800 - val_loss: 1.2621 - val_accuracy: 0.6000\n",
            "Epoch 38/100\n",
            "10/10 - 8s - loss: 0.6301 - accuracy: 0.7600 - val_loss: 1.5291 - val_accuracy: 0.5600\n",
            "Epoch 39/100\n",
            "10/10 - 8s - loss: 1.1598 - accuracy: 0.6200 - val_loss: 0.8543 - val_accuracy: 0.7000\n",
            "Epoch 40/100\n",
            "10/10 - 8s - loss: 0.7160 - accuracy: 0.7000 - val_loss: 0.7680 - val_accuracy: 0.6400\n",
            "Epoch 41/100\n",
            "10/10 - 8s - loss: 0.4497 - accuracy: 0.8200 - val_loss: 0.7351 - val_accuracy: 0.7800\n",
            "Epoch 42/100\n",
            "10/10 - 8s - loss: 0.7552 - accuracy: 0.7000 - val_loss: 0.9987 - val_accuracy: 0.6600\n",
            "Epoch 43/100\n",
            "10/10 - 8s - loss: 0.7871 - accuracy: 0.7400 - val_loss: 0.8234 - val_accuracy: 0.6600\n",
            "Epoch 44/100\n",
            "10/10 - 8s - loss: 0.7871 - accuracy: 0.7000 - val_loss: 0.6727 - val_accuracy: 0.7600\n",
            "Epoch 45/100\n",
            "10/10 - 8s - loss: 0.8397 - accuracy: 0.7000 - val_loss: 0.7526 - val_accuracy: 0.7600\n",
            "Epoch 46/100\n",
            "10/10 - 8s - loss: 0.9860 - accuracy: 0.6200 - val_loss: 0.5404 - val_accuracy: 0.7600\n",
            "Epoch 47/100\n",
            "10/10 - 8s - loss: 0.8310 - accuracy: 0.6800 - val_loss: 0.8971 - val_accuracy: 0.6800\n",
            "Epoch 48/100\n",
            "10/10 - 8s - loss: 0.8698 - accuracy: 0.6800 - val_loss: 1.2151 - val_accuracy: 0.5200\n",
            "Epoch 49/100\n",
            "10/10 - 8s - loss: 0.6687 - accuracy: 0.7000 - val_loss: 0.8120 - val_accuracy: 0.6600\n",
            "Epoch 50/100\n",
            "10/10 - 8s - loss: 0.6926 - accuracy: 0.7000 - val_loss: 0.8447 - val_accuracy: 0.6800\n",
            "Epoch 51/100\n",
            "10/10 - 8s - loss: 0.6663 - accuracy: 0.7600 - val_loss: 0.7802 - val_accuracy: 0.6600\n",
            "Epoch 52/100\n",
            "10/10 - 8s - loss: 0.5029 - accuracy: 0.8200 - val_loss: 0.9489 - val_accuracy: 0.7400\n",
            "Epoch 53/100\n",
            "10/10 - 8s - loss: 0.8481 - accuracy: 0.8200 - val_loss: 0.9426 - val_accuracy: 0.7600\n",
            "Epoch 54/100\n",
            "10/10 - 8s - loss: 0.7214 - accuracy: 0.7800 - val_loss: 0.7226 - val_accuracy: 0.7200\n",
            "Epoch 55/100\n",
            "10/10 - 8s - loss: 0.8646 - accuracy: 0.7200 - val_loss: 0.6223 - val_accuracy: 0.7600\n",
            "Epoch 56/100\n",
            "10/10 - 8s - loss: 0.5428 - accuracy: 0.7200 - val_loss: 1.4057 - val_accuracy: 0.6200\n",
            "Epoch 57/100\n",
            "10/10 - 8s - loss: 1.0200 - accuracy: 0.6200 - val_loss: 0.9309 - val_accuracy: 0.6800\n",
            "Epoch 58/100\n",
            "10/10 - 8s - loss: 0.7619 - accuracy: 0.7400 - val_loss: 0.8221 - val_accuracy: 0.7200\n",
            "Epoch 59/100\n",
            "10/10 - 8s - loss: 0.7501 - accuracy: 0.8000 - val_loss: 0.9663 - val_accuracy: 0.5800\n",
            "Epoch 60/100\n",
            "10/10 - 8s - loss: 0.6307 - accuracy: 0.7600 - val_loss: 0.7640 - val_accuracy: 0.7200\n",
            "Epoch 61/100\n",
            "10/10 - 8s - loss: 0.7280 - accuracy: 0.7200 - val_loss: 0.6889 - val_accuracy: 0.7800\n",
            "Epoch 62/100\n",
            "10/10 - 8s - loss: 0.9372 - accuracy: 0.7000 - val_loss: 0.9629 - val_accuracy: 0.6600\n",
            "Epoch 63/100\n",
            "10/10 - 8s - loss: 0.5281 - accuracy: 0.7600 - val_loss: 0.7013 - val_accuracy: 0.7600\n",
            "Epoch 64/100\n",
            "10/10 - 8s - loss: 0.6255 - accuracy: 0.7000 - val_loss: 0.9285 - val_accuracy: 0.7200\n",
            "Epoch 65/100\n",
            "10/10 - 8s - loss: 0.5393 - accuracy: 0.8200 - val_loss: 1.0984 - val_accuracy: 0.7200\n",
            "Epoch 66/100\n",
            "10/10 - 8s - loss: 0.8790 - accuracy: 0.7400 - val_loss: 0.7756 - val_accuracy: 0.6800\n",
            "Epoch 67/100\n",
            "10/10 - 8s - loss: 0.9282 - accuracy: 0.6400 - val_loss: 0.7329 - val_accuracy: 0.7600\n",
            "Epoch 68/100\n",
            "10/10 - 8s - loss: 0.7601 - accuracy: 0.6600 - val_loss: 0.8075 - val_accuracy: 0.7000\n",
            "Epoch 69/100\n",
            "10/10 - 8s - loss: 0.7001 - accuracy: 0.7400 - val_loss: 0.7978 - val_accuracy: 0.7600\n",
            "Epoch 70/100\n",
            "10/10 - 8s - loss: 0.5259 - accuracy: 0.8400 - val_loss: 0.8919 - val_accuracy: 0.7600\n",
            "Epoch 71/100\n",
            "10/10 - 8s - loss: 0.8379 - accuracy: 0.7400 - val_loss: 0.7315 - val_accuracy: 0.7600\n",
            "Epoch 72/100\n",
            "10/10 - 8s - loss: 0.8555 - accuracy: 0.7000 - val_loss: 1.5821 - val_accuracy: 0.5800\n",
            "Epoch 73/100\n",
            "10/10 - 8s - loss: 1.2861 - accuracy: 0.6400 - val_loss: 0.6612 - val_accuracy: 0.7400\n",
            "Epoch 74/100\n",
            "10/10 - 8s - loss: 0.4903 - accuracy: 0.8800 - val_loss: 0.8081 - val_accuracy: 0.7800\n",
            "Epoch 75/100\n",
            "10/10 - 8s - loss: 0.8592 - accuracy: 0.7000 - val_loss: 1.0101 - val_accuracy: 0.7200\n",
            "Epoch 76/100\n",
            "10/10 - 8s - loss: 0.8406 - accuracy: 0.6800 - val_loss: 0.7105 - val_accuracy: 0.7400\n",
            "Epoch 77/100\n",
            "10/10 - 8s - loss: 0.8181 - accuracy: 0.7000 - val_loss: 0.7599 - val_accuracy: 0.6800\n",
            "Epoch 78/100\n",
            "10/10 - 8s - loss: 0.8211 - accuracy: 0.7200 - val_loss: 0.8043 - val_accuracy: 0.6600\n",
            "Epoch 79/100\n",
            "10/10 - 8s - loss: 0.5987 - accuracy: 0.7800 - val_loss: 0.7207 - val_accuracy: 0.7800\n",
            "Epoch 80/100\n"
          ],
          "name": "stdout"
        }
      ]
    },
    {
      "cell_type": "code",
      "metadata": {
        "colab": {
          "base_uri": "https://localhost:8080/",
          "height": 299
        },
        "id": "y74Yn-Sau0YT",
        "outputId": "a9c2bab1-72dd-4c61-9822-76a711954bad"
      },
      "source": [
        "import matplotlib.pyplot as plt\r\n",
        "acc = history.history['accuracy']\r\n",
        "val_acc = history.history['val_accuracy']\r\n",
        "loss = history.history['loss']\r\n",
        "val_loss = history.history['val_loss']\r\n",
        "\r\n",
        "epochs = range(len(acc))\r\n",
        "\r\n",
        "plt.plot(epochs, acc, 'r', label='Training accuracy')\r\n",
        "plt.plot(epochs, val_acc, 'b', label='Validation accuracy')\r\n",
        "plt.title('Training and validation accuracy')\r\n",
        "plt.legend(loc=0)\r\n",
        "plt.figure()\r\n",
        "\r\n",
        "\r\n",
        "plt.show()"
      ],
      "execution_count": 16,
      "outputs": [
        {
          "output_type": "display_data",
          "data": {
            "image/png": "[encoded data removed]",
            "text/plain": [
              "<Figure size 432x288 with 1 Axes>"
            ]
          },
          "metadata": {
            "tags": [],
            "needs_background": "light"
          }
        },
        {
          "output_type": "display_data",
          "data": {
            "text/plain": [
              "<Figure size 432x288 with 0 Axes>"
            ]
          },
          "metadata": {
            "tags": []
          }
        }
      ]
    },
    {
      "cell_type": "code",
      "metadata": {
        "id": "C9zcNaqzU_M3"
      },
      "source": [
        ""
      ],
      "execution_count": 14,
      "outputs": []
    }
  ]
}